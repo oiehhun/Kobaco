{
 "cells": [
  {
   "cell_type": "code",
   "execution_count": 1,
   "metadata": {},
   "outputs": [],
   "source": [
    "import sys\n",
    "sys.path.append('../')\n",
    "\n",
    "from model import DecisionTree\n",
    "from rule import RuleExtractor\n",
    "\n",
    "import os\n",
    "import numpy as np\n",
    "import warnings\n",
    "import pandas as pd\n",
    "import matplotlib.pyplot as plt\n",
    "\n",
    "np.set_printoptions(suppress=True)\n",
    "\n",
    "warnings.filterwarnings(action='ignore')\n",
    "\n",
    "import seaborn as sns\n",
    "sns.set(font=\"Malgun Gothic\", rc={\"axes.unicode_minus\":False}, style='white')"
   ]
  },
  {
   "cell_type": "code",
   "execution_count": 2,
   "metadata": {},
   "outputs": [],
   "source": [
    "# sage, srgnn 중 선택\n",
    "embed_model = 'srgnn'\n",
    "filename = {'sage' : 'user_embedding_sage_sid_6to6_weighted.npy', 'srgnn' : 'srgnn_user_hybrid_6to6_weighted.npy'}\n",
    "data_path = \"../data/\"\n",
    "\n",
    "pivot_df = pd.read_csv(os.path.join(data_path, 'pivot_genre2_data.csv'), index_col=0)\n",
    "embedding = np.load(os.path.join(data_path, filename[embed_model]))\n",
    "\n",
    "model = DecisionTree(pivot_df, embedding)\n",
    "model.dt = model.make_dt(min_samples_leaf=25, min_impurity_decrease=0.0007)"
   ]
  },
  {
   "cell_type": "code",
   "execution_count": 4,
   "metadata": {},
   "outputs": [],
   "source": [
    "k=15\n",
    "len_or_list = []\n",
    "save_dir = f'../output/{embed_model}_rule'\n",
    "if not os.path.exists(save_dir):\n",
    "    os.makedirs(save_dir)\n",
    "\n",
    "rule_extractor = RuleExtractor(model)\n",
    "for i in range(k):\n",
    "    rule = rule_extractor.extract_rule(segment_num=i)\n",
    "    rule_extractor.save_rule(rule, f'../output/srgnn_rule/srgnn_seg_rule_extract{i}.txt')"
   ]
  },
  {
   "cell_type": "code",
   "execution_count": 79,
   "metadata": {},
   "outputs": [],
   "source": [
    "for i in range(15):\n",
    "    with open(f'../output/srgnn_rule/srgnn_seg_rule_extract{i}.txt', 'r') as f:\n",
    "        full_text = f.read()\n",
    "    \n",
    "    not_rule_text = ''\n",
    "    or_list = full_text.split('[OR]')\n",
    "\n",
    "\n",
    "    for or_idx, or_rule in enumerate(or_list):\n",
    "        and_list = or_rule.split('[AND]')\n",
    "        \n",
    "        not_list = []\n",
    "        normal_list = []\n",
    "        \n",
    "        for and_rule in and_list:\n",
    "            and_rule = and_rule.strip()\n",
    "\n",
    "            if '<=' in and_rule:\n",
    "                front, back = and_rule.split('<=')\n",
    "                back = round(float(back)*60)\n",
    "                not_list.append(f'{front} > {back} ')\n",
    "\n",
    "            elif '>' in and_rule:\n",
    "                front, back = and_rule.split('>')\n",
    "                back = round(float(back)*60)\n",
    "                normal_list.append(f'{front} > {back} ')\n",
    "\n",
    "        cnt = 0\n",
    "\n",
    "        for normal_rule in normal_list:\n",
    "            if cnt != 0:\n",
    "                not_rule_text += '[AND] '\n",
    "            \n",
    "            not_rule_text += normal_rule\n",
    "            cnt+=1\n",
    "        \n",
    "        for not_rule in not_list:\n",
    "            if cnt != 0:\n",
    "                not_rule_text += '[NOT] '\n",
    "            not_rule_text += not_rule\n",
    "\n",
    "        if len(not_rule_text) != 0 and or_idx != len(or_list)-1:\n",
    "            not_rule_text += '[OR]\\n'\n",
    "\n",
    "    with open(f'../output/final_srgnn_not_rule/srgnn_seg_rule_extract{i}.txt', 'w') as f:\n",
    "        f.writelines(not_rule_text)"
   ]
  },
  {
   "cell_type": "code",
   "execution_count": 81,
   "metadata": {},
   "outputs": [],
   "source": [
    "for i in range(15):\n",
    "    with open(f'../output/final_srgnn_not_rule/srgnn_seg_rule_extract{i}.txt', 'r') as f:\n",
    "        full_text = f.read()\n",
    "\n",
    "    full_text = full_text.replace('\\n', '')\n",
    "    rule_text = ''\n",
    "    or_list = full_text.split('[OR]')\n",
    "\n",
    "    for or_idx, or_rule in enumerate(or_list):\n",
    "        rule = or_rule.split('[NOT]')[0]\n",
    "        if len(rule.strip()) == 0:\n",
    "            continue\n",
    "        rule_text += rule\n",
    "        if or_idx != len(or_list)-1:\n",
    "            rule_text += '[OR]\\n'\n",
    "    \n",
    "    with open(f'../output/final_srgnn_rule/srgnn_seg_rule_extract{i}.txt', 'w') as f:\n",
    "        f.writelines(rule_text)"
   ]
  }
 ],
 "metadata": {
  "kernelspec": {
   "display_name": "py39",
   "language": "python",
   "name": "python3"
  },
  "language_info": {
   "codemirror_mode": {
    "name": "ipython",
    "version": 3
   },
   "file_extension": ".py",
   "mimetype": "text/x-python",
   "name": "python",
   "nbconvert_exporter": "python",
   "pygments_lexer": "ipython3",
   "version": "3.9.16"
  }
 },
 "nbformat": 4,
 "nbformat_minor": 2
}
