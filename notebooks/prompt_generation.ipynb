{
 "cells": [
  {
   "cell_type": "code",
   "execution_count": 1,
   "metadata": {},
   "outputs": [],
   "source": [
    "import torch\n",
    "import pandas as pd\n",
    "import random\n",
    "import json\n",
    "from tqdm.notebook import tqdm\n",
    "import sys\n",
    "sys.path.append('../')\n",
    "from util import load_node_csv\n",
    "\n",
    "class Args:\n",
    "    pass\n",
    "\n",
    "args = Args()\n",
    "args.gpu = 'cuda:2'\n",
    "args.data_path = \"../data/kobaco.csv\"\n",
    "args.num_iters = 10000\n",
    "args.batch_size = 512\n",
    "args.lambda_val = 1e-6"
   ]
  },
  {
   "cell_type": "code",
   "execution_count": 2,
   "metadata": {},
   "outputs": [],
   "source": [
    "df = pd.read_csv(args.data_path)\n",
    "user_mapping = load_node_csv(args.data_path, index_col='user_id')\n",
    "item_mapping = load_node_csv(args.data_path, index_col='item_id')\n",
    "inv_user_mapping = {v:k for k,v in user_mapping.items()}\n",
    "inv_item_mapping = {v:k for k,v in item_mapping.items()}"
   ]
  },
  {
   "cell_type": "code",
   "execution_count": 3,
   "metadata": {},
   "outputs": [
    {
     "data": {
      "application/vnd.jupyter.widget-view+json": {
       "model_id": "7efd0309557642a2b9bd4c3825da3b00",
       "version_major": 2,
       "version_minor": 0
      },
      "text/plain": [
       "  0%|          | 0/2833 [00:00<?, ?it/s]"
      ]
     },
     "metadata": {},
     "output_type": "display_data"
    }
   ],
   "source": [
    "total_items = df.item_id.tolist()\n",
    "temp_df = df.groupby('user_id')['item_id'].apply(list).reset_index()\n",
    "\n",
    "train_data = []\n",
    "test_data = []\n",
    "\n",
    "train_edge_index = [[], []]\n",
    "test_edge_index = [[], []]\n",
    "\n",
    "random.seed(1004)\n",
    "for idx, row in tqdm(temp_df.iterrows(), total=len(temp_df)):\n",
    "    user, items = row['user_id'], row['item_id']\n",
    "\n",
    "    question = f'질문: 사용자 {user}의 TV 프로그램 시청 기록을 고려했을 때, 타겟 TV 프로그램을 사용자가 선호할지 판단해주세요. 반드시 \"예\" 또는 \"아니\"로만 대답해야합니다.\\n답변: '\n",
    "    negative_samples = list(set(total_items) - set(items))\n",
    "    \n",
    "    # 최종 성능 체크를 위한 데이터셋\n",
    "    test_target = random.choice(items)\n",
    "    test_interacted = list(set(items) - set(test_target))\n",
    "    \n",
    "    # 학습을 위한 데이터셋\n",
    "    train_target = random.sample(test_interacted, 4)\n",
    "    train_interacted = list(set(test_interacted) - set(train_target))\n",
    "\n",
    "    # Train edge index\n",
    "    train_edge_index[0].extend([user_mapping[user]]*len(train_interacted))\n",
    "    train_edge_index[1].extend([item_mapping[item] for item in train_interacted])\n",
    "\n",
    "    # Test edge index\n",
    "    test_edge_index[0].extend([user_mapping[user]]*len(test_interacted))\n",
    "    test_edge_index[1].extend([item_mapping[item] for item in test_interacted])\n",
    "\n",
    "    for target in train_target:\n",
    "        # train positive sample\n",
    "        train_data.append({\n",
    "            'question':question,\n",
    "            'answer': '예',\n",
    "            'user_id':user,\n",
    "            'interacted_items': random.sample(train_interacted, 30),\n",
    "            'target_item': target,\n",
    "        })\n",
    "        \n",
    "        # train negative sample\n",
    "        train_data.append({\n",
    "            'question':question,\n",
    "            'answer': '아니',\n",
    "            'user_id':user,\n",
    "            'interacted_items': random.sample(train_interacted, 30),\n",
    "            'target_item': random.choice(negative_samples),\n",
    "        })\n",
    "\n",
    "    # test positive sample\n",
    "    test_data.append({\n",
    "        'question':question,\n",
    "        'answer': '예',\n",
    "        'user_id':user,\n",
    "        'interacted_items': random.sample(test_interacted, 30),\n",
    "        'target_item': test_target,\n",
    "    })\n",
    "    \n",
    "    # test negative sample\n",
    "    test_data.append({\n",
    "        'question':question,\n",
    "        'answer': '아니',\n",
    "        'user_id':user,\n",
    "        'interacted_items': random.sample(test_interacted, 30),\n",
    "        'target_item': random.choice(negative_samples),\n",
    "    })"
   ]
  },
  {
   "cell_type": "code",
   "execution_count": 4,
   "metadata": {},
   "outputs": [],
   "source": [
    "with open(\"../data/train.jsonl\", \"w\") as f:\n",
    "    for data in train_data:\n",
    "        f.write( json.dumps(data, ensure_ascii=False) + \"\\n\" )\n",
    "\n",
    "with open(\"../data/test.jsonl\", \"w\") as f:\n",
    "    for data in test_data:\n",
    "        f.write( json.dumps(data, ensure_ascii=False) + \"\\n\" )\n",
    "\n",
    "torch.save(torch.Tensor(train_edge_index), '../data/train_edge_index.pt')\n",
    "torch.save(torch.Tensor(test_edge_index), '../data/test_edge_index.pt')"
   ]
  },
  {
   "cell_type": "code",
   "execution_count": 5,
   "metadata": {},
   "outputs": [
    {
     "name": "stdout",
     "output_type": "stream",
     "text": [
      "사용자 2의 TV 프로그램 시청 기록:\n",
      "0. 전기현의 씨네뮤직\n",
      "1. 식객 허영만의 백반기행\n",
      "2. 데블스 오운 1부\n",
      "3. 내부자들\n",
      "4. 월수금화목토\n",
      "5. 코로나19 통합뉴스룸 KBS 뉴스 12\n",
      "6. 구필수는 없다\n",
      "7. 뮤직뱅크\n",
      "8. 이슈 픽 쌤과 함께\n",
      "9. 삼남매가 용감하게\n",
      "10. 지금부터, 쇼타임!\n",
      "11. 놀라운 토요일\n",
      "12. KBS 뉴스특보\n",
      "13. 동상이몽2 너는 내 운명\n",
      "14. KBS 뉴스 12\n",
      "15. 한국영화특선 <두 얼굴의 여친>\n",
      "16. 제로섬게임\n",
      "17. 우리들의 블루스\n",
      "18. 뜻밖의 여정\n",
      "19. 무엇이든 물어보세요\n",
      "20. MBC 희망프로젝트 어른이 되던 날\n",
      "21. 스포츠 투나잇\n",
      "22. MBC 네트워크특선\n",
      "23. 일당백집사 \n",
      "24. 다큐플렉스 \n",
      "25. 출발! 비디오 여행\n",
      "26. 2022 평창 대관령음악제\n",
      "27. 독립영화관 <고백>\n",
      "28. 홍진경의 영화로운 덕후생활\n",
      "29. 2시 뉴스 외전\n",
      "\n",
      "타겟 TV 프로그램:\n",
      "* MBC 뉴스투데이 2부\n",
      "\n",
      "질문: 사용자 2의 TV 프로그램 시청 기록을 고려했을 때, 타겟 TV 프로그램을 사용자가 선호할지 판단해주세요. 반드시 \"예\" 또는 \"아니\"로만 대답해야합니다.\n",
      "답변: 예\n"
     ]
    }
   ],
   "source": [
    "data = train_data[0]\n",
    "user_id = data['user_id']\n",
    "prompt =f'사용자 {user_id}의 TV 프로그램 시청 기록:\\n'\n",
    "for idx, item in enumerate(data['iteracted_items']):\n",
    "    prompt += f'{idx}. {item}\\n'\n",
    "prompt+='\\n타겟 TV 프로그램:\\n* ' + data['target_item'] + '\\n\\n'\n",
    "prompt+= ''+data['question'] + data['answer']\n",
    "print(prompt)"
   ]
  }
 ],
 "metadata": {
  "kernelspec": {
   "display_name": "GraphToken",
   "language": "python",
   "name": "python3"
  },
  "language_info": {
   "codemirror_mode": {
    "name": "ipython",
    "version": 3
   },
   "file_extension": ".py",
   "mimetype": "text/x-python",
   "name": "python",
   "nbconvert_exporter": "python",
   "pygments_lexer": "ipython3",
   "version": "3.1.-1"
  }
 },
 "nbformat": 4,
 "nbformat_minor": 2
}
