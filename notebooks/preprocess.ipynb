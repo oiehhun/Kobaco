{
 "cells": [
  {
   "cell_type": "code",
   "execution_count": 1,
   "metadata": {},
   "outputs": [],
   "source": [
    "import os\n",
    "import numpy as np\n",
    "import warnings\n",
    "import pandas as pd\n",
    "np.set_printoptions(suppress=True)\n",
    "\n",
    "warnings.filterwarnings(action='ignore')"
   ]
  },
  {
   "cell_type": "code",
   "execution_count": 2,
   "metadata": {},
   "outputs": [],
   "source": [
    "data_path = \"../data/\"\n",
    "view_hist = pd.read_pickle(os.path.join(data_path,'sid_6to6.pkl'))\n",
    "view_hist.rename({'MAC':'user_id','ptitle':'item_id','start_time':'timestamp'}, axis=1, inplace=True)\n",
    "view_hist.drop_duplicates(subset=['user_id', 'item_id'], inplace=True)\n",
    "view_hist.dropna(inplace=True)"
   ]
  },
  {
   "cell_type": "code",
   "execution_count": 7,
   "metadata": {},
   "outputs": [
    {
     "name": "stdout",
     "output_type": "stream",
     "text": [
      "314569 2833 16729\n",
      "sparsity:  0.9933625789846011\n"
     ]
    }
   ],
   "source": [
    "tmp = view_hist[view_hist['stay_time'] >= 3600]\n",
    "tmp_len = tmp.groupby('user_id').apply(len)\n",
    "user_ids = tmp_len[tmp_len > 50].index\n",
    "tmp = tmp[tmp.user_id.isin(user_ids)]\n",
    "n_iter, n_user, n_item = len(tmp), tmp.user_id.nunique(), tmp.item_id.nunique()\n",
    "\n",
    "print(n_iter, n_user, n_item)\n",
    "sparsity_ratio = 1 -(n_iter / (n_user * n_item))\n",
    "print('sparsity: ', sparsity_ratio)"
   ]
  },
  {
   "cell_type": "code",
   "execution_count": 8,
   "metadata": {},
   "outputs": [],
   "source": [
    "df = tmp[['user_id', 'item_id','timestamp']]\n",
    "df.reset_index(drop=True)\n",
    "df.to_csv(os.path.join(data_path, 'kobaco.csv'), index=False)"
   ]
  },
  {
   "cell_type": "code",
   "execution_count": 10,
   "metadata": {},
   "outputs": [
    {
     "data": {
      "text/html": [
       "<div>\n",
       "<style scoped>\n",
       "    .dataframe tbody tr th:only-of-type {\n",
       "        vertical-align: middle;\n",
       "    }\n",
       "\n",
       "    .dataframe tbody tr th {\n",
       "        vertical-align: top;\n",
       "    }\n",
       "\n",
       "    .dataframe thead th {\n",
       "        text-align: right;\n",
       "    }\n",
       "</style>\n",
       "<table border=\"1\" class=\"dataframe\">\n",
       "  <thead>\n",
       "    <tr style=\"text-align: right;\">\n",
       "      <th></th>\n",
       "      <th>user_id</th>\n",
       "      <th>item_id</th>\n",
       "      <th>timestamp</th>\n",
       "    </tr>\n",
       "  </thead>\n",
       "  <tbody>\n",
       "    <tr>\n",
       "      <th>0</th>\n",
       "      <td>2</td>\n",
       "      <td>MBC 뉴스투데이 2부</td>\n",
       "      <td>1654032300</td>\n",
       "    </tr>\n",
       "    <tr>\n",
       "      <th>1</th>\n",
       "      <td>2</td>\n",
       "      <td>식객 허영만의 백반기행</td>\n",
       "      <td>1654041840</td>\n",
       "    </tr>\n",
       "    <tr>\n",
       "      <th>2</th>\n",
       "      <td>2</td>\n",
       "      <td>구필수는 없다</td>\n",
       "      <td>1654085400</td>\n",
       "    </tr>\n",
       "    <tr>\n",
       "      <th>3</th>\n",
       "      <td>2</td>\n",
       "      <td>선택 2022 5부 제8회 전국동시지방선거 개표방송</td>\n",
       "      <td>1654117172</td>\n",
       "    </tr>\n",
       "    <tr>\n",
       "      <th>4</th>\n",
       "      <td>2</td>\n",
       "      <td>내부자들</td>\n",
       "      <td>1654176458</td>\n",
       "    </tr>\n",
       "    <tr>\n",
       "      <th>...</th>\n",
       "      <td>...</td>\n",
       "      <td>...</td>\n",
       "      <td>...</td>\n",
       "    </tr>\n",
       "    <tr>\n",
       "      <th>314564</th>\n",
       "      <td>4845</td>\n",
       "      <td>NnF 점퍼</td>\n",
       "      <td>1666816560</td>\n",
       "    </tr>\n",
       "    <tr>\n",
       "      <th>314565</th>\n",
       "      <td>4845</td>\n",
       "      <td>비에날씬 다이어트</td>\n",
       "      <td>1666820160</td>\n",
       "    </tr>\n",
       "    <tr>\n",
       "      <th>314566</th>\n",
       "      <td>4845</td>\n",
       "      <td>최스타쇼</td>\n",
       "      <td>1666823760</td>\n",
       "    </tr>\n",
       "    <tr>\n",
       "      <th>314567</th>\n",
       "      <td>4845</td>\n",
       "      <td>수상한 책방 동서남Book</td>\n",
       "      <td>1666986720</td>\n",
       "    </tr>\n",
       "    <tr>\n",
       "      <th>314568</th>\n",
       "      <td>4845</td>\n",
       "      <td>해리포터와 불의 잔</td>\n",
       "      <td>1667010021</td>\n",
       "    </tr>\n",
       "  </tbody>\n",
       "</table>\n",
       "<p>314569 rows × 3 columns</p>\n",
       "</div>"
      ],
      "text/plain": [
       "        user_id                        item_id   timestamp\n",
       "0             2                   MBC 뉴스투데이 2부  1654032300\n",
       "1             2                   식객 허영만의 백반기행  1654041840\n",
       "2             2                        구필수는 없다  1654085400\n",
       "3             2  선택 2022 5부 제8회 전국동시지방선거 개표방송   1654117172\n",
       "4             2                           내부자들  1654176458\n",
       "...         ...                            ...         ...\n",
       "314564     4845                         NnF 점퍼  1666816560\n",
       "314565     4845                      비에날씬 다이어트  1666820160\n",
       "314566     4845                           최스타쇼  1666823760\n",
       "314567     4845                 수상한 책방 동서남Book  1666986720\n",
       "314568     4845                     해리포터와 불의 잔  1667010021\n",
       "\n",
       "[314569 rows x 3 columns]"
      ]
     },
     "execution_count": 10,
     "metadata": {},
     "output_type": "execute_result"
    }
   ],
   "source": [
    "data_path = \"../data/\"\n",
    "df = pd.read_csv(os.path.join(data_path, 'kobaco.csv'))\n",
    "df"
   ]
  }
 ],
 "metadata": {
  "kernelspec": {
   "display_name": "py39",
   "language": "python",
   "name": "python3"
  },
  "language_info": {
   "codemirror_mode": {
    "name": "ipython",
    "version": 3
   },
   "file_extension": ".py",
   "mimetype": "text/x-python",
   "name": "python",
   "nbconvert_exporter": "python",
   "pygments_lexer": "ipython3",
   "version": "3.10.14"
  }
 },
 "nbformat": 4,
 "nbformat_minor": 2
}
