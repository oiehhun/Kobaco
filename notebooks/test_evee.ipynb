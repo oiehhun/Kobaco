{
 "cells": [
  {
   "cell_type": "code",
   "execution_count": 1,
   "metadata": {},
   "outputs": [],
   "source": [
    "import sys\n",
    "sys.path.append('../')\n",
    "\n",
    "import torch\n",
    "from tqdm import tqdm\n",
    "from transformers import AutoTokenizer, AutoModelForCausalLM\n",
    "from util import load_jsonl"
   ]
  },
  {
   "cell_type": "code",
   "execution_count": 2,
   "metadata": {},
   "outputs": [],
   "source": [
    "data_path='/home/bonbak/kobaco/data/kobaco.csv'\n",
    "device='cuda:3'"
   ]
  },
  {
   "cell_type": "code",
   "execution_count": 3,
   "metadata": {},
   "outputs": [
    {
     "data": {
      "application/vnd.jupyter.widget-view+json": {
       "model_id": "6c9389c41ee5485e8259528914a72133",
       "version_major": 2,
       "version_minor": 0
      },
      "text/plain": [
       "Loading checkpoint shards:   0%|          | 0/2 [00:00<?, ?it/s]"
      ]
     },
     "metadata": {},
     "output_type": "display_data"
    }
   ],
   "source": [
    "save_dir = \"/SSL_NAS/bonbak/model/models--yanolja--EEVE-Korean-Instruct-2.8B-v1.0/snapshots/482db2d0ba911253d09342c34d0e42ac871bfea3\"\n",
    "tokenizer = AutoTokenizer.from_pretrained(save_dir)\n",
    "model = AutoModelForCausalLM.from_pretrained(save_dir).to(device)"
   ]
  },
  {
   "cell_type": "code",
   "execution_count": 16,
   "metadata": {},
   "outputs": [],
   "source": [
    "class Dataset(torch.utils.data.Dataset):\n",
    "    def __init__(self, data_path):\n",
    "        self.data = load_jsonl(data_path)\n",
    "        self.input_text_list = self.set_input_text_list()\n",
    "        self.answer_list = self.set_answer_list()\n",
    "        self.continuous_prompt_input_list = self.set_continuous_prompt_input_list()\n",
    "\n",
    "    def set_input_text_list(self):\n",
    "        input_text_list = []\n",
    "        for data in self.data:\n",
    "            user = data['user_id']\n",
    "            prompt =f'사용자 {user}의 TV 프로그램 시청 기록:\\n'\n",
    "            for idx, item in enumerate(data['interacted_items']):\n",
    "                prompt += f'{idx}. {item}\\n'\n",
    "            prompt +='\\n타겟 TV 프로그램:\\n* ' + data['target_item'] + '\\n\\n'\n",
    "            prompt += data['question']\n",
    "            input_text_list.append(prompt)\n",
    "        return input_text_list\n",
    "\n",
    "    def set_answer_list(self):\n",
    "        return [x['answer'] for x in self.data]\n",
    "    \n",
    "\n",
    "    def set_continuous_prompt_input_list(self):\n",
    "        # return [{'input_text_list':'\\n'.join([x['node_information'],x['edge_information']])} for x in self.data]\n",
    "        return\n",
    "\n",
    "    def __len__(self):\n",
    "        return len(self.input_text_list)\n",
    "\n",
    "    def __getitem__(self, idx):\n",
    "        # return self.input_text_list[idx], self.continuous_prompt_input_list[idx], self.answer_list[idx]\n",
    "        return self.input_text_list[idx], self.answer_list[idx]"
   ]
  },
  {
   "cell_type": "code",
   "execution_count": 5,
   "metadata": {},
   "outputs": [
    {
     "name": "stderr",
     "output_type": "stream",
     "text": [
      "100%|██████████| 5666/5666 [14:16<00:00,  6.62it/s]\n"
     ]
    }
   ],
   "source": [
    "model.eval()\n",
    "pred = []\n",
    "label = []\n",
    "\n",
    "test_dataset = Dataset('../data/test.jsonl')\n",
    "for input_text, answer_list in tqdm(test_dataset):\n",
    "    # input_text = '\\n'.join((continuous_prompt_input['input_text_list'], input_text))\n",
    "    input_ids = tokenizer(input_text, return_tensors=\"pt\").to(device)\n",
    "    outputs = model.generate(**input_ids, pad_token_id=tokenizer.eos_token_id, max_new_tokens=1)\n",
    "    answer = tokenizer.batch_decode(outputs, skip_special_tokens=True)[0]\n",
    "    answer = answer.replace(input_text, '')\n",
    "\n",
    "    pred.append(answer)\n",
    "    label.append(answer_list)"
   ]
  },
  {
   "cell_type": "code",
   "execution_count": 30,
   "metadata": {},
   "outputs": [],
   "source": [
    "import numpy as np\n",
    "def convert_answer(answer):\n",
    "    converted = []\n",
    "    for a in answer:\n",
    "        a = a.strip()\n",
    "        if a == '예':\n",
    "            converted.append(1)\n",
    "        elif a == '아니':\n",
    "            converted.append(0)\n",
    "        else:\n",
    "            converted.append(-1)\n",
    "    return np.array(converted)"
   ]
  },
  {
   "cell_type": "code",
   "execution_count": 43,
   "metadata": {},
   "outputs": [
    {
     "name": "stdout",
     "output_type": "stream",
     "text": [
      "miss rate: 0.05206494881750794\n"
     ]
    }
   ],
   "source": [
    "y_pred = convert_answer(pred)\n",
    "y_true = convert_answer(test_dataset.answer_list)\n",
    "new_y_pred = y_pred[np.where(y_pred!=-1)]\n",
    "new_y_true = y_true[np.where(y_pred!=-1)]\n",
    "missed = np.where(y_pred==-1)\n",
    "print('miss rate:',len(missed[0]) / len(y_true))"
   ]
  },
  {
   "cell_type": "code",
   "execution_count": 44,
   "metadata": {},
   "outputs": [
    {
     "name": "stdout",
     "output_type": "stream",
     "text": [
      "0.6252094582014522\n",
      "0.5176132278936018\n"
     ]
    }
   ],
   "source": [
    "from sklearn.metrics import accuracy_score, f1_score\n",
    "accuracy = accuracy_score(new_y_true, new_y_pred)\n",
    "f1 = f1_score(new_y_true, new_y_pred)\n",
    "\n",
    "print(accuracy)\n",
    "print(f1)"
   ]
  }
 ],
 "metadata": {
  "kernelspec": {
   "display_name": "GraphToken",
   "language": "python",
   "name": "python3"
  },
  "language_info": {
   "codemirror_mode": {
    "name": "ipython",
    "version": 3
   },
   "file_extension": ".py",
   "mimetype": "text/x-python",
   "name": "python",
   "nbconvert_exporter": "python",
   "pygments_lexer": "ipython3",
   "version": "3.1.undefined"
  }
 },
 "nbformat": 4,
 "nbformat_minor": 2
}
