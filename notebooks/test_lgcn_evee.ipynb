{
 "cells": [
  {
   "cell_type": "code",
   "execution_count": 1,
   "metadata": {},
   "outputs": [],
   "source": [
    "import sys\n",
    "sys.path.append('../')\n",
    "\n",
    "import torch\n",
    "from tqdm import tqdm\n",
    "from transformers import AutoTokenizer, AutoModelForCausalLM\n",
    "from util import load_jsonl, load_node_csv\n",
    "\n",
    "from model.continuous_prompt import ContinuousPromptingLLM\n",
    "from model.rec_encoder import RecommendationContinuousPromptModel\n",
    "from model.projection import BasicProjection"
   ]
  },
  {
   "cell_type": "code",
   "execution_count": 2,
   "metadata": {},
   "outputs": [
    {
     "data": {
      "application/vnd.jupyter.widget-view+json": {
       "model_id": "860ce3e869ac474d956c49954632777e",
       "version_major": 2,
       "version_minor": 0
      },
      "text/plain": [
       "Loading checkpoint shards:   0%|          | 0/2 [00:00<?, ?it/s]"
      ]
     },
     "metadata": {},
     "output_type": "display_data"
    }
   ],
   "source": [
    "data_path='/home/bonbak/kobaco/data/kobaco.csv'\n",
    "device='cuda:3'\n",
    "save_dir = \"/SSL_NAS/bonbak/model/models--yanolja--EEVE-Korean-Instruct-2.8B-v1.0/snapshots/482db2d0ba911253d09342c34d0e42ac871bfea3\"\n",
    "tokenizer = AutoTokenizer.from_pretrained(save_dir)\n",
    "model = AutoModelForCausalLM.from_pretrained(save_dir).to(device)"
   ]
  },
  {
   "cell_type": "code",
   "execution_count": 3,
   "metadata": {},
   "outputs": [],
   "source": [
    "class Dataset(torch.utils.data.Dataset):\n",
    "    def __init__(self, data_path):\n",
    "        self.data = load_jsonl(data_path)\n",
    "        self.input_text_list = self.set_input_text_list()\n",
    "        self.answer_list = self.set_answer_list()\n",
    "        self.continuous_prompt_input_list = self.set_continuous_prompt_input_list()\n",
    "\n",
    "    def set_input_text_list(self):\n",
    "        input_text_list = []\n",
    "        for data in self.data:\n",
    "            user = data['user_id']\n",
    "            prompt =f'사용자 {user}의 TV 프로그램 시청 기록:\\n'\n",
    "            for idx, item in enumerate(data['iteracted_items']):\n",
    "                prompt += f'{idx}. {item}\\n'\n",
    "            prompt +='\\n타겟 TV 프로그램:\\n* ' + data['target_item'] + '\\n\\n'\n",
    "            prompt += data['question']\n",
    "            input_text_list.append(prompt)\n",
    "        return input_text_list\n",
    "\n",
    "    def set_answer_list(self):\n",
    "        return [x['answer'] for x in self.data]\n",
    "    \n",
    "\n",
    "    def set_continuous_prompt_input_list(self):\n",
    "        # return [{'input_text_list':'\\n'.join([x['node_information'],x['edge_information']])} for x in self.data]\n",
    "        return\n",
    "\n",
    "    def __len__(self):\n",
    "        return len(self.input_text_list)\n",
    "\n",
    "    def __getitem__(self, idx):\n",
    "        return self.input_text_list[idx], self.answer_list[idx]"
   ]
  },
  {
   "cell_type": "code",
   "execution_count": 8,
   "metadata": {},
   "outputs": [],
   "source": [
    "user_mapping = load_node_csv('../data/kobaco.csv', index_col='user_id')\n",
    "item_mapping = load_node_csv('../data/kobaco.csv', index_col='item_id')\n",
    "\n",
    "class RecommendationDataset(Dataset):\n",
    "    def __init__(self, data_path, user_mapping, item_mapping):\n",
    "        self.user_mapping = user_mapping\n",
    "        self.item_mapping = item_mapping\n",
    "        super().__init__(data_path)\n",
    "        \n",
    "\n",
    "    def set_continuous_prompt_input_list(self):\n",
    "        continuous_prompt_input_list = []\n",
    "        for x in self.data:\n",
    "            interacted_items = list(map(lambda item:self.item_mapping[item], x['iteracted_items']))\n",
    "            target_item = [self.item_mapping[x['target_item']]]\n",
    "            item_ids = torch.Tensor(interacted_items+target_item).type(torch.long)\n",
    "            # user_id = torch.Tensor([self.user_mapping[x['user_id']]]).type(torch.long)\n",
    "            user_id = self.user_mapping[x['user_id']]\n",
    "            continuous_prompt_input_list.append({'user_id':user_id, 'item_ids':item_ids})\n",
    "        return continuous_prompt_input_list\n",
    "\n",
    "    def __getitem__(self, idx):\n",
    "        return self.input_text_list[idx], self.continuous_prompt_input_list[idx], self.answer_list[idx]"
   ]
  },
  {
   "cell_type": "code",
   "execution_count": 9,
   "metadata": {},
   "outputs": [],
   "source": [
    "SAVE_DIR = '../output'\n",
    "MODEL_NAME = 'light-gcn'\n",
    "\n",
    "test_dataset = RecommendationDataset('../data/test.jsonl', user_mapping, item_mapping)\n",
    "test_dataloader = torch.utils.data.DataLoader(test_dataset, batch_size=1, shuffle=False)\n",
    "\n",
    "num_users, num_items = len(user_mapping), len(item_mapping)\n",
    "\n",
    "continuous_prompt_model = RecommendationContinuousPromptModel(num_users,num_items,'../data/train_edge_index.pt')\n",
    "projection_module = BasicProjection(continuous_prompt_model.model.embedding_dim)"
   ]
  },
  {
   "cell_type": "code",
   "execution_count": 10,
   "metadata": {},
   "outputs": [
    {
     "data": {
      "application/vnd.jupyter.widget-view+json": {
       "model_id": "c51f674f2e034ba0beeae1d86849e69d",
       "version_major": 2,
       "version_minor": 0
      },
      "text/plain": [
       "Loading checkpoint shards:   0%|          | 0/2 [00:00<?, ?it/s]"
      ]
     },
     "metadata": {},
     "output_type": "display_data"
    },
    {
     "data": {
      "text/plain": [
       "ContinuousPromptingLLM(\n",
       "  (llm_model): PhiForCausalLM(\n",
       "    (model): PhiModel(\n",
       "      (embed_tokens): Embedding(58944, 2560)\n",
       "      (embed_dropout): Dropout(p=0.0, inplace=False)\n",
       "      (layers): ModuleList(\n",
       "        (0-31): 32 x PhiDecoderLayer(\n",
       "          (self_attn): PhiSdpaAttention(\n",
       "            (q_proj): Linear(in_features=2560, out_features=2560, bias=True)\n",
       "            (k_proj): Linear(in_features=2560, out_features=2560, bias=True)\n",
       "            (v_proj): Linear(in_features=2560, out_features=2560, bias=True)\n",
       "            (dense): Linear(in_features=2560, out_features=2560, bias=True)\n",
       "            (rotary_emb): PhiRotaryEmbedding()\n",
       "          )\n",
       "          (mlp): PhiMLP(\n",
       "            (activation_fn): NewGELUActivation()\n",
       "            (fc1): Linear(in_features=2560, out_features=10240, bias=True)\n",
       "            (fc2): Linear(in_features=10240, out_features=2560, bias=True)\n",
       "          )\n",
       "          (input_layernorm): LayerNorm((2560,), eps=1e-05, elementwise_affine=True)\n",
       "          (resid_dropout): Dropout(p=0.1, inplace=False)\n",
       "        )\n",
       "      )\n",
       "      (final_layernorm): LayerNorm((2560,), eps=1e-05, elementwise_affine=True)\n",
       "    )\n",
       "    (lm_head): Linear(in_features=2560, out_features=58944, bias=True)\n",
       "  )\n",
       "  (continuous_prompt_model): RecommendationContinuousPromptModel(\n",
       "    (model): LightGCN()\n",
       "  )\n",
       "  (projection_module): Linear(in_features=64, out_features=2560, bias=True)\n",
       ")"
      ]
     },
     "execution_count": 10,
     "metadata": {},
     "output_type": "execute_result"
    }
   ],
   "source": [
    "model = ContinuousPromptingLLM(\n",
    "    \"/SSL_NAS/bonbak/model/models--yanolja--EEVE-Korean-Instruct-2.8B-v1.0/snapshots/482db2d0ba911253d09342c34d0e42ac871bfea3\",\n",
    "    continuous_prompt_model, \n",
    "    continuous_prompt_model.model.embedding_dim\n",
    ")\n",
    "\n",
    "model.continuous_prompt_model.load_state_dict(torch.load(f'{SAVE_DIR}/model/{MODEL_NAME}-encoder.bin'))\n",
    "model.projection_module.load_state_dict(torch.load(f'{SAVE_DIR}/model/{MODEL_NAME}-projection.bin'))\n",
    "\n",
    "continuous_prompt_model.to(device)\n",
    "model.to(device)"
   ]
  },
  {
   "cell_type": "code",
   "execution_count": 19,
   "metadata": {},
   "outputs": [
    {
     "data": {
      "application/vnd.jupyter.widget-view+json": {
       "model_id": "00207b6cb3de47379f9b86004617d31f",
       "version_major": 2,
       "version_minor": 0
      },
      "text/plain": [
       "  0%|          | 0/5666 [00:00<?, ?it/s]"
      ]
     },
     "metadata": {},
     "output_type": "display_data"
    }
   ],
   "source": [
    "from tqdm.notebook import tqdm\n",
    "model.eval()\n",
    "pred = []\n",
    "label = []\n",
    "\n",
    "for input_text, continuous_prompt_input, answer_list in tqdm(test_dataloader):\n",
    "    with torch.no_grad():\n",
    "        inputs_embeds, attention_mask = model.make_input_embed(input_text, continuous_prompt_input, embedding_first=True)\n",
    "        output = model.llm_model.generate(inputs_embeds=inputs_embeds, attention_mask=attention_mask, pad_token_id=tokenizer.eos_token_id, max_new_tokens=1)\n",
    "        pred.append(model.llm_tokenizer.batch_decode(output, skip_special_tokens=True)[0])\n",
    "        label.append(answer_list)"
   ]
  },
  {
   "cell_type": "code",
   "execution_count": 21,
   "metadata": {},
   "outputs": [],
   "source": [
    "import numpy as np\n",
    "def convert_answer(answer):\n",
    "    converted = []\n",
    "    for a in answer:\n",
    "        a = a.strip()\n",
    "        if a == '예':\n",
    "            converted.append(1)\n",
    "        elif a == '아니':\n",
    "            converted.append(0)\n",
    "        else:\n",
    "            converted.append(-1)\n",
    "    return np.array(converted)"
   ]
  },
  {
   "cell_type": "code",
   "execution_count": 22,
   "metadata": {},
   "outputs": [
    {
     "name": "stdout",
     "output_type": "stream",
     "text": [
      "miss rate: 0.0\n"
     ]
    }
   ],
   "source": [
    "y_pred = convert_answer(pred)\n",
    "y_true = convert_answer(test_dataset.answer_list)\n",
    "new_y_pred = y_pred[np.where(y_pred!=-1)]\n",
    "new_y_true = y_true[np.where(y_pred!=-1)]\n",
    "missed = np.where(y_pred==-1)\n",
    "print('miss rate:',len(missed[0]) / len(y_true))"
   ]
  },
  {
   "cell_type": "code",
   "execution_count": 23,
   "metadata": {},
   "outputs": [
    {
     "name": "stdout",
     "output_type": "stream",
     "text": [
      "0.8210377691493117\n",
      "0.8098987626546682\n"
     ]
    }
   ],
   "source": [
    "from sklearn.metrics import accuracy_score, f1_score\n",
    "accuracy = accuracy_score(new_y_true, new_y_pred)\n",
    "f1 = f1_score(new_y_true, new_y_pred)\n",
    "\n",
    "print(accuracy)\n",
    "print(f1)"
   ]
  }
 ],
 "metadata": {
  "kernelspec": {
   "display_name": "GraphToken",
   "language": "python",
   "name": "python3"
  },
  "language_info": {
   "codemirror_mode": {
    "name": "ipython",
    "version": 3
   },
   "file_extension": ".py",
   "mimetype": "text/x-python",
   "name": "python",
   "nbconvert_exporter": "python",
   "pygments_lexer": "ipython3",
   "version": "3.1.-1"
  }
 },
 "nbformat": 4,
 "nbformat_minor": 2
}
